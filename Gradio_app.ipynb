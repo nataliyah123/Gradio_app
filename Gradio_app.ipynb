{
  "cells": [
    {
      "cell_type": "code",
      "execution_count": null,
      "metadata": {
        "id": "eyAzjtVc9yIE"
      },
      "outputs": [],
      "source": [
        "from google.colab import output\n",
        "!pip install gradio==2.3.7\n",
        "!pip install sqlalchemy\n",
        "\n",
        "\n",
        "output.clear()"
      ]
    },
    {
      "cell_type": "code",
      "execution_count": null,
      "metadata": {
        "colab": {
          "base_uri": "https://localhost:8080/"
        },
        "id": "STcFCCHV-RXs",
        "outputId": "eb1e7b1a-31f8-4913-aee9-4ce19a2af90a"
      },
      "outputs": [
        {
          "output_type": "stream",
          "name": "stdout",
          "text": [
            "Mounted at /content/drive\n"
          ]
        }
      ],
      "source": [
        "import gradio as gr\n",
        "from google.colab import drive\n",
        "import os\n",
        "\n",
        "drive.mount('/content/drive')"
      ]
    },
    {
      "cell_type": "code",
      "execution_count": null,
      "metadata": {
        "id": "uphuVNdZFTod"
      },
      "outputs": [],
      "source": [
        "from sqlalchemy import create_engine\n",
        "\n",
        "database =  'sqlite:///' +  os.path.join('/content/drive/MyDrive/', 'my_db.db')\n",
        "my_conn=create_engine(database, pool_pre_ping=True)\n"
      ]
    },
    {
      "cell_type": "code",
      "execution_count": null,
      "metadata": {
        "colab": {
          "base_uri": "https://localhost:8080/"
        },
        "id": "8Kpa3hh5WwfN",
        "outputId": "86ae9b58-f04f-4e6c-89cb-37eb3e7f3d36"
      },
      "outputs": [
        {
          "output_type": "stream",
          "name": "stdout",
          "text": [
            "Downloading data from https://storage.googleapis.com/tensorflow/keras-applications/mobilenet_v2/mobilenet_v2_weights_tf_dim_ordering_tf_kernels_1.0_224.h5\n",
            "14540800/14536120 [==============================] - 0s 0us/step\n",
            "14548992/14536120 [==============================] - 0s 0us/step\n"
          ]
        }
      ],
      "source": [
        "import tensorflow as tf\n",
        "\n",
        "inception_net = tf.keras.applications.MobileNetV2()"
      ]
    },
    {
      "cell_type": "code",
      "execution_count": null,
      "metadata": {
        "id": "4Mi36XBZWxaY"
      },
      "outputs": [],
      "source": [
        "import requests\n",
        "  \n",
        "# Download human-readable labels for ImageNet.\n",
        "response = requests.get(\"https://git.io/JJkYN\")\n",
        "labels = response.text.split(\"\\n\")\n",
        "\n",
        "def classify_image(my_image,name, age, sex,location, fever, pain, diarrhea):\n",
        "# def classify_image(my_image):\n",
        " \n",
        "  my_conn.execute(\"INSERT INTO student (name, mark, sex) values(?,?,?)\", (name, age, sex))\n",
        "  print(\"my image type\", my_image.size)\n",
        "  # image = Image.fromarray(my_image)\n",
        "  # image.show()  \n",
        "  inp = my_image.reshape((-1, 224, 224, 3))\n",
        "  print(\"my image type dinj\",inp.size)\n",
        "  inp = tf.keras.applications.mobilenet_v2.preprocess_input(inp)\n",
        "  prediction = inception_net.predict(inp).flatten()\n",
        "  confidences = {labels[i]: float(prediction[i]) for i in range(1000)}\n",
        "  return confidences"
      ]
    },
    {
      "cell_type": "code",
      "execution_count": null,
      "metadata": {
        "colab": {
          "base_uri": "https://localhost:8080/",
          "height": 695
        },
        "id": "_Zk-sBLU-epn",
        "outputId": "87fb4524-5b92-4636-f3f3-65bd91e3144b"
      },
      "outputs": [
        {
          "output_type": "stream",
          "name": "stdout",
          "text": [
            "read image <class 'gradio.inputs.Image'>\n",
            "IMPORTANT: You are using gradio version 2.3.7, however version 2.5.1 is available, please upgrade.\n",
            "--------\n",
            "Colab notebook detected. This cell will run indefinitely so that you can see errors and logs. To turn off, set debug=False in launch().\n",
            "\n",
            "This share link expires in 72 hours. For free permanent hosting, check out Spaces (https://huggingface.co/spaces)\n",
            "Running on public URL: https://42558.gradio.app\n",
            "Interface loading below...\n"
          ]
        },
        {
          "output_type": "display_data",
          "data": {
            "text/plain": [
              "<IPython.lib.display.IFrame at 0x7f2c2c142090>"
            ],
            "text/html": [
              "\n",
              "        <iframe\n",
              "            width=\"900\"\n",
              "            height=\"500\"\n",
              "            src=\"https://42558.gradio.app\"\n",
              "            frameborder=\"0\"\n",
              "            allowfullscreen\n",
              "        ></iframe>\n",
              "        "
            ]
          },
          "metadata": {}
        },
        {
          "output_type": "stream",
          "name": "stdout",
          "text": [
            "my image type 150528\n",
            "my image type dinj 150528\n"
          ]
        }
      ],
      "source": [
        "my_image = gr.inputs.Image(shape=(224,224), image_mode=\"RGB\", type =\"numpy\") \n",
        "print(\"read image\", type(my_image))\n",
        "\n",
        "\n",
        "name = gr.inputs.Textbox(lines=2, placeholder=\"Name Here...\")\n",
        "age  = gr.inputs.Textbox(lines=2, placeholder=\"age Here...\")\n",
        "sex  = gr.inputs.Textbox(lines=2, placeholder=\"sex Here...\")\n",
        "location  = gr.inputs.Textbox(lines=2, placeholder=\"location Here...\")\n",
        "fever = gr.inputs.Radio(choices=[\"high\", \"moderate\", \"low\"], label = \"Fever\")            \n",
        "pain = gr.inputs.Radio(choices=['yes', \"no\"], label =\"Abdominal Pain\")\n",
        "diarrhea = gr.inputs.Radio(choices=['yes', 'no'], label=\"Diarrhea\")\n",
        "outputs = gr.outputs.Label(num_top_classes=2)\n",
        "out = gr.outputs.Label(label='imagenet1000')\n",
        "\n",
        "# Launch the demo\n",
        "iface = gr.Interface(classify_image, inputs=[my_image,name, age, sex, location, fever, pain, diarrhea], outputs=outputs, enable_queue=True, live=False)\n",
        "# iface = gr.Interface(classify_image, inputs=my_image, outputs=out, live=False)\n",
        "\n",
        "iface.launch(debug=True)\n",
        "\n"
      ]
    },
    {
      "cell_type": "code",
      "execution_count": null,
      "metadata": {
        "id": "lYbU-aIqIJAy"
      },
      "outputs": [],
      "source": [
        "q=\"SELECT * FROM STUDENT order by id desc limit 0,10\"\n",
        "r_set=my_conn.execute(q)\n",
        "for row in r_set:\n",
        "  print(row)\n"
      ]
    }
  ],
  "metadata": {
    "colab": {
      "collapsed_sections": [],
      "name": "Gradio_app.ipynb",
      "provenance": []
    },
    "kernelspec": {
      "display_name": "Python 3",
      "name": "python3"
    },
    "language_info": {
      "name": "python"
    }
  },
  "nbformat": 4,
  "nbformat_minor": 0
}